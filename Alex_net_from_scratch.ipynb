{
  "cells": [
    {
      "cell_type": "markdown",
      "metadata": {
        "id": "view-in-github",
        "colab_type": "text"
      },
      "source": [
        "<a href=\"https://colab.research.google.com/github/hebaismail6848/Machine-Deep-learning-projects/blob/main/Alex_net_from_scratch.ipynb\" target=\"_parent\"><img src=\"https://colab.research.google.com/assets/colab-badge.svg\" alt=\"Open In Colab\"/></a>"
      ]
    },
    {
      "cell_type": "code",
      "execution_count": null,
      "metadata": {
        "id": "086GHTfLp6Yw"
      },
      "outputs": [],
      "source": [
        "import keras\n",
        "from keras.models import Sequential\n",
        "from keras.layers import Dense,Activation,Dropout,Conv2D,MaxPooling2D,Flatten,BatchNormalization\n",
        "import numpy as np\n",
        "import matplotlib.pyplot as plt\n",
        "from keras.datasets import cifar10\n",
        "from sklearn.model_selection import train_test_split"
      ]
    },
    {
      "cell_type": "code",
      "execution_count": null,
      "metadata": {
        "colab": {
          "base_uri": "https://localhost:8080/"
        },
        "id": "w5VODpIWqSP-",
        "outputId": "fba52986-4054-4397-8fe9-0f76c2d9a40f"
      },
      "outputs": [
        {
          "output_type": "stream",
          "name": "stdout",
          "text": [
            "Downloading data from https://www.cs.toronto.edu/~kriz/cifar-10-python.tar.gz\n",
            "170498071/170498071 [==============================] - 4s 0us/step\n"
          ]
        }
      ],
      "source": [
        "(x_train,y_train),(x_test,y_test)=cifar10.load_data()"
      ]
    },
    {
      "cell_type": "code",
      "execution_count": null,
      "metadata": {
        "id": "gI1rsjc1rXr9"
      },
      "outputs": [],
      "source": [
        "x_train,x_val,y_train,y_val=train_test_split(x_train,y_train,test_size=.3,random_state=42)"
      ]
    },
    {
      "cell_type": "code",
      "execution_count": null,
      "metadata": {
        "colab": {
          "base_uri": "https://localhost:8080/"
        },
        "id": "ntf41HKTsBmI",
        "outputId": "83411eb8-9210-4a6d-9d16-41ae4567c126"
      },
      "outputs": [
        {
          "output_type": "stream",
          "name": "stdout",
          "text": [
            "(35000, 32, 32, 3)\n",
            "(15000, 32, 32, 3)\n",
            "(35000, 1)\n",
            "(15000, 1)\n"
          ]
        }
      ],
      "source": [
        "print(x_train.shape)\n",
        "print(x_val.shape)\n",
        "print(y_train.shape)\n",
        "print(y_val.shape)\n"
      ]
    },
    {
      "cell_type": "markdown",
      "metadata": {
        "id": "imWg4Qm6sOQ6"
      },
      "source": [
        "#Model"
      ]
    },
    {
      "cell_type": "code",
      "execution_count": null,
      "metadata": {
        "id": "QUf_OtmFsIix"
      },
      "outputs": [],
      "source": [
        "AlexNet=Sequential()\n",
        "\n",
        "#1'st layer\n",
        "AlexNet.add(Conv2D(filters=96,input_shape=(32,32,3),kernel_size=(11,11),strides=(4,4),padding='same'))\n",
        "AlexNet.add(Activation('relu'))\n",
        "AlexNet.add(BatchNormalization())\n",
        "\n",
        "#2'st layer\n",
        "AlexNet.add(Conv2D(filters=256,kernel_size=(5,5),strides=(1,1),padding='same'))\n",
        "AlexNet.add(Activation('relu'))\n",
        "AlexNet.add(BatchNormalization())\n",
        "AlexNet.add(MaxPooling2D(pool_size=(2,2),strides=(2,2),padding='same'))\n",
        "\n",
        "#3'st layer\n",
        "AlexNet.add(Conv2D(filters=384,kernel_size=(3,3),strides=(1,1),padding='same'))\n",
        "AlexNet.add(Activation('relu'))\n",
        "AlexNet.add(BatchNormalization())\n",
        "AlexNet.add(MaxPooling2D(pool_size=(2,2),strides=(2,2),padding='same'))\n",
        "\n",
        "#4'st layer\n",
        "AlexNet.add(Conv2D(filters=384,kernel_size=(3,3),strides=(1,1),padding='same'))\n",
        "AlexNet.add(Activation('relu'))\n",
        "AlexNet.add(BatchNormalization())\n",
        "\n",
        "#5'st layer\n",
        "AlexNet.add(Conv2D(filters=256,kernel_size=(3,3),strides=(1,1),padding='same'))\n",
        "AlexNet.add(Activation('relu'))\n",
        "AlexNet.add(BatchNormalization())\n",
        "AlexNet.add(MaxPooling2D(pool_size=(2,2),strides=(2,2),padding='same'))\n",
        "\n",
        "#Flatten\n",
        "AlexNet.add(Flatten())\n",
        "\n",
        "\n",
        "#1'st fully connected layer\n",
        "AlexNet.add(Dense(4096))\n",
        "AlexNet.add(Activation('relu'))\n",
        "AlexNet.add(BatchNormalization())\n",
        "AlexNet.add(Dropout(.4))\n",
        "\n",
        "#2'st fully connected layer\n",
        "AlexNet.add(Dense(1000))\n",
        "AlexNet.add(Activation('relu'))\n",
        "AlexNet.add(BatchNormalization())\n",
        "AlexNet.add(Dropout(.4))\n",
        "\n",
        "#3'st fully connected layer\n",
        "AlexNet.add(Dense(10))\n",
        "AlexNet.add(Activation('softmax'))\n",
        "AlexNet.add(BatchNormalization())"
      ]
    },
    {
      "cell_type": "code",
      "execution_count": null,
      "metadata": {
        "id": "b1DPI5wWt86x"
      },
      "outputs": [],
      "source": [
        "AlexNet.compile(optimizer='adam',loss=keras.losses.categorical_crossentropy,metrics='accuracy')"
      ]
    },
    {
      "cell_type": "code",
      "execution_count": null,
      "metadata": {
        "id": "8q-keK49wcJO"
      },
      "outputs": [],
      "source": [
        "from keras.preprocessing.image import ImageDataGenerator\n",
        "train_generator=ImageDataGenerator(rotation_range=2,horizontal_flip=True,zoom_range=.1)\n",
        "val_generator=ImageDataGenerator(rotation_range=2,horizontal_flip=True,zoom_range=.1)\n",
        "test_generator=ImageDataGenerator(rotation_range=2,horizontal_flip=True,zoom_range=.1)"
      ]
    },
    {
      "cell_type": "code",
      "execution_count": null,
      "metadata": {
        "id": "Y9SLUOu0xJ99"
      },
      "outputs": [],
      "source": [
        "train_generator.fit(x_train)\n",
        "val_generator.fit(x_val)\n",
        "test_generator.fit(x_test)"
      ]
    },
    {
      "cell_type": "code",
      "execution_count": null,
      "metadata": {
        "id": "8w_CFfXQxVLp"
      },
      "outputs": [],
      "source": [
        "x_train_generator=train_generator.flow(x_train,y_train,batch_size=100)\n",
        "x_val_generator=val_generator.flow(x_val,y_val,batch_size=100)\n",
        "x_test_generator=test_generator.flow(x_test,y_test,batch_size=100)"
      ]
    },
    {
      "cell_type": "code",
      "source": [
        "x_train_generator.shape"
      ],
      "metadata": {
        "id": "KE-QO4xm-f79"
      },
      "execution_count": null,
      "outputs": []
    },
    {
      "cell_type": "code",
      "execution_count": null,
      "metadata": {
        "colab": {
          "base_uri": "https://localhost:8080/"
        },
        "id": "EjtGXqIUxsw5",
        "outputId": "15b74404-fead-4fa1-8720-e0dfa77fec20"
      },
      "outputs": [
        {
          "output_type": "stream",
          "name": "stdout",
          "text": [
            "Epoch 1/40\n",
            "350/350 [==============================] - 679s 2s/step - loss: 349.0323 - accuracy: 0.0329 - val_loss: 445.9405 - val_accuracy: 0.0000e+00\n",
            "Epoch 2/40\n",
            "350/350 [==============================] - 679s 2s/step - loss: 354.5958 - accuracy: 0.0817 - val_loss: 365.9108 - val_accuracy: 0.0314\n",
            "Epoch 3/40\n",
            "350/350 [==============================] - 710s 2s/step - loss: 358.0500 - accuracy: 0.0821 - val_loss: 364.9912 - val_accuracy: 0.0175\n",
            "Epoch 4/40\n",
            "350/350 [==============================] - 670s 2s/step - loss: 359.7532 - accuracy: 0.0382 - val_loss: 353.2506 - val_accuracy: 0.0427\n",
            "Epoch 5/40\n",
            "350/350 [==============================] - 669s 2s/step - loss: 384.2166 - accuracy: 0.0077 - val_loss: 438.6001 - val_accuracy: 0.0000e+00\n",
            "Epoch 6/40\n",
            "350/350 [==============================] - 715s 2s/step - loss: 420.7904 - accuracy: 0.0000e+00 - val_loss: 438.1139 - val_accuracy: 0.0000e+00\n",
            "Epoch 7/40\n",
            " 12/350 [>.............................] - ETA: 10:03 - loss: 427.7788 - accuracy: 0.0000e+00"
          ]
        }
      ],
      "source": [
        "AlexNet.fit(\n",
        "    x_train_generator,\n",
        "    epochs=40,\n",
        "    validation_data=x_val_generator,\n",
        "    verbose=1\n",
        ")"
      ]
    },
    {
      "cell_type": "code",
      "execution_count": null,
      "metadata": {
        "colab": {
          "base_uri": "https://localhost:8080/"
        },
        "id": "COPo4dB0yI6e",
        "outputId": "9cb16559-e3ac-4f3a-c855-14f0bfb60ece"
      },
      "outputs": [
        {
          "name": "stdout",
          "output_type": "stream",
          "text": [
            "313/313 [==============================] - 1s 4ms/step\n"
          ]
        },
        {
          "data": {
            "text/plain": [
              "array([[ 0.07682719, -0.6073332 ,  0.91306794, ...,  0.03286565,\n",
              "        -0.22428869,  0.09413069],\n",
              "       [ 0.07656145, -0.60732555,  0.9131502 , ...,  0.03266537,\n",
              "        -0.2242973 ,  0.09418333],\n",
              "       [ 0.0766438 , -0.60733134,  0.91313994, ...,  0.03271864,\n",
              "        -0.22427972,  0.09412938],\n",
              "       ...,\n",
              "       [ 0.07655439,  1.6065056 , -1.3461477 , ...,  0.03266175,\n",
              "        -0.22435983,  0.09410845],\n",
              "       [ 0.07661139, -0.6073332 ,  0.9131516 , ...,  0.03270929,\n",
              "        -0.22434941,  0.09411594],\n",
              "       [ 0.07655442, -0.6073332 ,  0.9131726 , ...,  0.03266175,\n",
              "        -0.22435981,  0.09410848]], dtype=float32)"
            ]
          },
          "execution_count": 22,
          "metadata": {},
          "output_type": "execute_result"
        }
      ],
      "source": [
        "y_pred=AlexNet.predict(x_test)\n",
        "y_pred"
      ]
    },
    {
      "cell_type": "code",
      "execution_count": null,
      "metadata": {
        "id": "ILBX-aP4zo9v"
      },
      "outputs": [],
      "source": [
        "def transformed_pred(pred):\n",
        "  transformed_list=[]\n",
        "  for i in range(len(pred)):\n",
        "    max_prob=np.argmax(pred[i])\n",
        "    transformed_list.append(max_prob)\n",
        "  return transformed_list"
      ]
    },
    {
      "cell_type": "code",
      "execution_count": null,
      "metadata": {
        "colab": {
          "base_uri": "https://localhost:8080/"
        },
        "id": "QT5ZFvJ0zKiG",
        "outputId": "ef5a5967-97b0-456b-c6da-df9c12e255e8"
      },
      "outputs": [
        {
          "data": {
            "text/plain": [
              "0.0846"
            ]
          },
          "execution_count": 25,
          "metadata": {},
          "output_type": "execute_result"
        }
      ],
      "source": [
        "y_pred=transformed_pred(y_pred)\n",
        "\n",
        "from sklearn.metrics import accuracy_score\n",
        "accuracy_score(y_pred,y_test)"
      ]
    },
    {
      "cell_type": "code",
      "execution_count": null,
      "metadata": {
        "id": "2qmJwE-wzVbj"
      },
      "outputs": [],
      "source": []
    }
  ],
  "metadata": {
    "colab": {
      "provenance": [],
      "include_colab_link": true
    },
    "kernelspec": {
      "display_name": "Python 3",
      "name": "python3"
    },
    "language_info": {
      "codemirror_mode": {
        "name": "ipython",
        "version": 3
      },
      "file_extension": ".py",
      "mimetype": "text/x-python",
      "name": "python",
      "nbconvert_exporter": "python",
      "pygments_lexer": "ipython3",
      "version": "3.8.8"
    }
  },
  "nbformat": 4,
  "nbformat_minor": 0
}