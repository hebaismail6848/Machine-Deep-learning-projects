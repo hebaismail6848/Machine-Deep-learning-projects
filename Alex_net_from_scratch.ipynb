{
  "cells": [
    {
      "cell_type": "markdown",
      "metadata": {
        "id": "view-in-github",
        "colab_type": "text"
      },
      "source": [
        "<a href=\"https://colab.research.google.com/github/hebaismail6848/Machine-Deep-learning-projects/blob/main/Alex_net_from_scratch.ipynb\" target=\"_parent\"><img src=\"https://colab.research.google.com/assets/colab-badge.svg\" alt=\"Open In Colab\"/></a>"
      ]
    },
    {
      "cell_type": "code",
      "execution_count": 1,
      "metadata": {
        "id": "086GHTfLp6Yw"
      },
      "outputs": [],
      "source": [
        "import keras\n",
        "from keras.models import Sequential\n",
        "from keras.layers import Dense,Activation,Dropout,Conv2D,MaxPooling2D,Flatten,BatchNormalization\n",
        "import numpy as np\n",
        "import matplotlib.pyplot as plt\n",
        "from keras.datasets import cifar10\n",
        "from sklearn.model_selection import train_test_split"
      ]
    },
    {
      "cell_type": "code",
      "execution_count": 2,
      "metadata": {
        "id": "w5VODpIWqSP-"
      },
      "outputs": [],
      "source": [
        "(x_train,y_train),(x_test,y_test)=cifar10.load_data()"
      ]
    },
    {
      "cell_type": "code",
      "execution_count": 3,
      "metadata": {
        "id": "gI1rsjc1rXr9"
      },
      "outputs": [],
      "source": [
        "x_train,x_val,y_train,y_val=train_test_split(x_train,y_train,test_size=.3,random_state=42)"
      ]
    },
    {
      "cell_type": "code",
      "execution_count": 4,
      "metadata": {
        "colab": {
          "base_uri": "https://localhost:8080/"
        },
        "id": "ntf41HKTsBmI",
        "outputId": "cc400782-9820-41b7-f289-0c7a7a781794"
      },
      "outputs": [
        {
          "output_type": "stream",
          "name": "stdout",
          "text": [
            "(35000, 32, 32, 3)\n",
            "(15000, 32, 32, 3)\n",
            "(35000, 1)\n",
            "(15000, 1)\n"
          ]
        }
      ],
      "source": [
        "print(x_train.shape)\n",
        "print(x_val.shape)\n",
        "print(y_train.shape)\n",
        "print(y_val.shape)\n"
      ]
    },
    {
      "cell_type": "markdown",
      "metadata": {
        "id": "imWg4Qm6sOQ6"
      },
      "source": [
        "#Model"
      ]
    },
    {
      "cell_type": "code",
      "execution_count": 6,
      "metadata": {
        "id": "QUf_OtmFsIix",
        "outputId": "90aa7d62-771a-4a72-c529-d6b2a48e3039",
        "colab": {
          "base_uri": "https://localhost:8080/"
        }
      },
      "outputs": [
        {
          "output_type": "stream",
          "name": "stderr",
          "text": [
            "/usr/local/lib/python3.10/dist-packages/keras/src/layers/convolutional/base_conv.py:107: UserWarning: Do not pass an `input_shape`/`input_dim` argument to a layer. When using Sequential models, prefer using an `Input(shape)` object as the first layer in the model instead.\n",
            "  super().__init__(activity_regularizer=activity_regularizer, **kwargs)\n"
          ]
        }
      ],
      "source": [
        "AlexNet=Sequential()\n",
        "\n",
        "#1'st layer\n",
        "AlexNet.add(Conv2D(filters=16,input_shape=(32,32,3),kernel_size=(3,3),strides=(1,1),padding='same'))\n",
        "AlexNet.add(BatchNormalization())\n",
        "AlexNet.add(Activation('relu'))\n",
        "\n",
        "\n",
        "#2'st layer\n",
        "AlexNet.add(Conv2D(filters=32,kernel_size=(3,3),strides=(1,1),padding='same'))\n",
        "AlexNet.add(BatchNormalization())\n",
        "AlexNet.add(Activation('relu'))\n",
        "AlexNet.add(MaxPooling2D(pool_size=(2,2),strides=(2,2),padding='same'))\n",
        "\n",
        "#3'st layer\n",
        "AlexNet.add(Conv2D(filters=64,kernel_size=(3,3),strides=(1,1),padding='same'))\n",
        "AlexNet.add(BatchNormalization())\n",
        "AlexNet.add(Activation('relu'))\n",
        "AlexNet.add(MaxPooling2D(pool_size=(2,2),strides=(2,2),padding='same'))\n",
        "\n",
        "#4'st layer\n",
        "AlexNet.add(Conv2D(filters=128,kernel_size=(3,3),strides=(1,1),padding='same'))\n",
        "AlexNet.add(BatchNormalization())\n",
        "AlexNet.add(Activation('relu'))\n",
        "AlexNet.add(MaxPooling2D(pool_size=(2,2),strides=(2,2),padding='same'))\n",
        "\n",
        "#5'st layer\n",
        "AlexNet.add(Conv2D(filters=64,kernel_size=(3,3),strides=(1,1),padding='same'))\n",
        "AlexNet.add(BatchNormalization())\n",
        "AlexNet.add(Activation('relu'))\n",
        "AlexNet.add(MaxPooling2D(pool_size=(2,2),strides=(2,2),padding='same'))\n",
        "\n",
        "#Flatten\n",
        "AlexNet.add(Flatten())\n",
        "\n",
        "\n",
        "#1'st fully connected layer\n",
        "AlexNet.add(Dense(512))\n",
        "AlexNet.add(BatchNormalization())\n",
        "AlexNet.add(Activation('relu'))\n",
        "AlexNet.add(Dropout(.3))\n",
        "\n",
        "#2'st fully connected layer\n",
        "AlexNet.add(Dense(256))\n",
        "AlexNet.add(BatchNormalization())\n",
        "AlexNet.add(Activation('relu'))\n",
        "AlexNet.add(Dropout(.3))\n",
        "\n",
        "#3'st fully connected layer\n",
        "AlexNet.add(Dense(10))\n",
        "AlexNet.add(BatchNormalization())\n",
        "AlexNet.add(Activation('softmax'))"
      ]
    },
    {
      "cell_type": "code",
      "execution_count": 7,
      "metadata": {
        "id": "b1DPI5wWt86x"
      },
      "outputs": [],
      "source": [
        "AlexNet.compile(optimizer='adam',loss=keras.losses.categorical_crossentropy,metrics=['accuracy'])"
      ]
    },
    {
      "cell_type": "code",
      "execution_count": 8,
      "metadata": {
        "id": "8q-keK49wcJO"
      },
      "outputs": [],
      "source": [
        "from tensorflow.keras.preprocessing.image import ImageDataGenerator\n",
        "train_generator=ImageDataGenerator(rotation_range=2,horizontal_flip=True,zoom_range=.1)\n",
        "val_generator=ImageDataGenerator(rotation_range=2,horizontal_flip=True,zoom_range=.1)\n",
        "test_generator=ImageDataGenerator(rotation_range=2,horizontal_flip=True,zoom_range=.1)"
      ]
    },
    {
      "cell_type": "code",
      "execution_count": 9,
      "metadata": {
        "id": "Y9SLUOu0xJ99"
      },
      "outputs": [],
      "source": [
        "train_generator.fit(x_train)\n",
        "val_generator.fit(x_val)\n",
        "test_generator.fit(x_test)"
      ]
    },
    {
      "cell_type": "code",
      "source": [
        "import tensorflow as tf"
      ],
      "metadata": {
        "id": "nmYli040H_g8"
      },
      "execution_count": 11,
      "outputs": []
    },
    {
      "cell_type": "code",
      "source": [
        "# Convert target variables to one-hot encoding\n",
        "y_train = tf.keras.utils.to_categorical(y_train, num_classes=10)\n",
        "y_val = tf.keras.utils.to_categorical(y_val, num_classes=10)\n",
        "y_test = tf.keras.utils.to_categorical(y_test, num_classes=10)"
      ],
      "metadata": {
        "id": "9yjFfX2YFkP-"
      },
      "execution_count": 12,
      "outputs": []
    },
    {
      "cell_type": "code",
      "execution_count": 13,
      "metadata": {
        "id": "8w_CFfXQxVLp"
      },
      "outputs": [],
      "source": [
        "#Re-create your data generators with the updated y values\n",
        "x_train_generator=train_generator.flow(x_train,y_train,batch_size=100)\n",
        "x_val_generator=val_generator.flow(x_val,y_val,batch_size=100)\n",
        "x_test_generator=test_generator.flow(x_test,y_test,batch_size=100)"
      ]
    },
    {
      "cell_type": "code",
      "execution_count": null,
      "metadata": {
        "colab": {
          "base_uri": "https://localhost:8080/"
        },
        "id": "EjtGXqIUxsw5",
        "outputId": "10aaee3e-bf3f-428a-ab9c-58c348fa4df0"
      },
      "outputs": [
        {
          "output_type": "stream",
          "name": "stdout",
          "text": [
            "Epoch 1/40\n"
          ]
        },
        {
          "output_type": "stream",
          "name": "stderr",
          "text": [
            "/usr/local/lib/python3.10/dist-packages/keras/src/trainers/data_adapters/py_dataset_adapter.py:121: UserWarning: Your `PyDataset` class should call `super().__init__(**kwargs)` in its constructor. `**kwargs` can include `workers`, `use_multiprocessing`, `max_queue_size`. Do not pass these arguments to `fit()`, as they will be ignored.\n",
            "  self._warn_if_super_not_called()\n"
          ]
        },
        {
          "output_type": "stream",
          "name": "stdout",
          "text": [
            "\u001b[1m350/350\u001b[0m \u001b[32m━━━━━━━━━━━━━━━━━━━━\u001b[0m\u001b[37m\u001b[0m \u001b[1m224s\u001b[0m 618ms/step - accuracy: 0.4012 - loss: 1.6980 - val_accuracy: 0.4835 - val_loss: 1.4525\n",
            "Epoch 2/40\n",
            "\u001b[1m320/350\u001b[0m \u001b[32m━━━━━━━━━━━━━━━━━━\u001b[0m\u001b[37m━━\u001b[0m \u001b[1m16s\u001b[0m 538ms/step - accuracy: 0.6057 - loss: 1.1706"
          ]
        }
      ],
      "source": [
        "AlexNet.fit(\n",
        "    x_train_generator,\n",
        "    epochs=40,\n",
        "    validation_data=x_val_generator,\n",
        "    verbose=1\n",
        ")"
      ]
    },
    {
      "cell_type": "code",
      "execution_count": null,
      "metadata": {
        "id": "COPo4dB0yI6e"
      },
      "outputs": [],
      "source": [
        "y_pred=AlexNet.predict(x_test)\n",
        "y_pred"
      ]
    },
    {
      "cell_type": "code",
      "execution_count": null,
      "metadata": {
        "id": "ILBX-aP4zo9v"
      },
      "outputs": [],
      "source": [
        "def transformed_pred(pred):\n",
        "  transformed_list=[]\n",
        "  for i in range(len(pred)):\n",
        "    max_prob=np.argmax(pred[i])\n",
        "    transformed_list.append(max_prob)\n",
        "  return transformed_list"
      ]
    },
    {
      "cell_type": "code",
      "execution_count": null,
      "metadata": {
        "id": "QT5ZFvJ0zKiG"
      },
      "outputs": [],
      "source": [
        "y_pred=transformed_pred(y_pred)\n",
        "\n",
        "from sklearn.metrics import accuracy_score\n",
        "accuracy_score(y_pred,y_test)"
      ]
    },
    {
      "cell_type": "code",
      "execution_count": null,
      "metadata": {
        "id": "2qmJwE-wzVbj"
      },
      "outputs": [],
      "source": []
    }
  ],
  "metadata": {
    "colab": {
      "provenance": [],
      "include_colab_link": true
    },
    "kernelspec": {
      "display_name": "Python 3",
      "name": "python3"
    },
    "language_info": {
      "codemirror_mode": {
        "name": "ipython",
        "version": 3
      },
      "file_extension": ".py",
      "mimetype": "text/x-python",
      "name": "python",
      "nbconvert_exporter": "python",
      "pygments_lexer": "ipython3",
      "version": "3.8.8"
    }
  },
  "nbformat": 4,
  "nbformat_minor": 0
}